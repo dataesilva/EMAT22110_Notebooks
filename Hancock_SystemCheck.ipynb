{
 "cells": [
  {
   "cell_type": "markdown",
   "id": "going-cleanup",
   "metadata": {},
   "source": [
    "# System Check\n",
    "Ethan Hancock\n",
    "\n",
    "### Hopes for this Class\n",
    "1. Learn Python\n",
    "2. Learn data analytics\n",
    "3. Learn data visuilization in python\n",
    "\n",
    "I am very excited for this class and working with python for the first time. I am also very excited to be learning how to handle and use data in this context.\n",
    "\n",
    "![](https://cdn.searchenginejournal.com/wp-content/uploads/2020/06/how-to-use-python-to-monitor-and-measure-website-performance-5ed76ef838ff3-760x400.png)"
   ]
  },
  {
   "cell_type": "code",
   "execution_count": 14,
   "id": "retained-guess",
   "metadata": {},
   "outputs": [
    {
     "name": "stdout",
     "output_type": "stream",
     "text": [
      "E\n",
      "t\n",
      "h\n",
      "a\n",
      "n\n",
      "False\n"
     ]
    }
   ],
   "source": [
    "g = \"Ethan\"\n",
    "v = False\n",
    "\n",
    "def fun():\n",
    "    v = true\n",
    "    return v\n",
    "\n",
    "for x in g:\n",
    "     print(x)\n",
    "        \n",
    "print (v)"
   ]
  }
 ],
 "metadata": {
  "kernelspec": {
   "display_name": "Python 3",
   "language": "python",
   "name": "python3"
  },
  "language_info": {
   "codemirror_mode": {
    "name": "ipython",
    "version": 3
   },
   "file_extension": ".py",
   "mimetype": "text/x-python",
   "name": "python",
   "nbconvert_exporter": "python",
   "pygments_lexer": "ipython3",
   "version": "3.9.1"
  },
  "varInspector": {
   "cols": {
    "lenName": 16,
    "lenType": 16,
    "lenVar": 40
   },
   "kernels_config": {
    "python": {
     "delete_cmd_postfix": "",
     "delete_cmd_prefix": "del ",
     "library": "var_list.py",
     "varRefreshCmd": "print(var_dic_list())"
    },
    "r": {
     "delete_cmd_postfix": ") ",
     "delete_cmd_prefix": "rm(",
     "library": "var_list.r",
     "varRefreshCmd": "cat(var_dic_list()) "
    }
   },
   "types_to_exclude": [
    "module",
    "function",
    "builtin_function_or_method",
    "instance",
    "_Feature"
   ],
   "window_display": false
  }
 },
 "nbformat": 4,
 "nbformat_minor": 5
}
